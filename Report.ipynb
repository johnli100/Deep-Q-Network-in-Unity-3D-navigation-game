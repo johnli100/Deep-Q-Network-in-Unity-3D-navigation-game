{
 "cells": [
  {
   "cell_type": "markdown",
   "metadata": {},
   "source": [
    "# Learning to play 3D Navigation Game using Deep Q-Network"
   ]
  },
  {
   "cell_type": "markdown",
   "metadata": {},
   "source": [
    "This project is a part of the Udacity Deep Reinforcement Learning Nano-degree requirement. In this report, I described how the Deep Q-Network (DQN) was used to learn a 3D navigation game provided by Unity Environment [here](https://github.com/Unity-Technologies/ml-agents/tree/release_12_docs).\n",
    "\n",
    "DQN is a Reinforcement Learning (Q-learning) algorithm using Deep Neural Network as a value function approximation (refer to [this paper](https://storage.googleapis.com/deepmind-media/dqn/DQNNaturePaper.pdf)). Using DQN, the computer agent was able to achieve a good level of skills to play a 3D navigation game with a sizable number of environmental variables, learning from scratch."
   ]
  },
  {
   "cell_type": "markdown",
   "metadata": {},
   "source": [
    "### The Game Environment"
   ]
  },
  {
   "cell_type": "markdown",
   "metadata": {},
   "source": [
    "The game environment is provided by Unit Technology (please refer to README on how to install). The agent is to navigate through a 3D environment by stepping forward, backward, turn left or turn right and capture as many yellow bananas and avoid purple bananas. The following imports packages and sets up the game environment."
   ]
  },
  {
   "cell_type": "markdown",
   "metadata": {},
   "source": [
    "<img src='banana_collector.gif' width=\"400\" height=\"400\">"
   ]
  },
  {
   "cell_type": "code",
   "execution_count": 1,
   "metadata": {},
   "outputs": [
    {
     "name": "stdout",
     "output_type": "stream",
     "text": [
      "\u001b[31mtensorflow 1.7.1 has requirement numpy>=1.13.3, but you'll have numpy 1.12.1 which is incompatible.\u001b[0m\n",
      "\u001b[31mipython 6.5.0 has requirement prompt-toolkit<2.0.0,>=1.0.15, but you'll have prompt-toolkit 3.0.18 which is incompatible.\u001b[0m\n"
     ]
    }
   ],
   "source": [
    "# setting up the environment in Udacity workspace below\n",
    "#!pip -q install ./python"
   ]
  },
  {
   "cell_type": "code",
   "execution_count": 2,
   "metadata": {},
   "outputs": [],
   "source": [
    "import numpy as np\n",
    "import torch\n",
    "from collections import deque\n",
    "from unityagents import UnityEnvironment\n",
    "import matplotlib.pyplot as plt\n",
    "%matplotlib inline"
   ]
  },
  {
   "cell_type": "code",
   "execution_count": 3,
   "metadata": {},
   "outputs": [
    {
     "name": "stderr",
     "output_type": "stream",
     "text": [
      "INFO:unityagents:\n",
      "'Academy' started successfully!\n",
      "Unity Academy name: Academy\n",
      "        Number of Brains: 1\n",
      "        Number of External Brains : 1\n",
      "        Lesson number : 0\n",
      "        Reset Parameters :\n",
      "\t\t\n",
      "Unity brain name: BananaBrain\n",
      "        Number of Visual Observations (per agent): 0\n",
      "        Vector Observation space type: continuous\n",
      "        Vector Observation space size (per agent): 37\n",
      "        Number of stacked Vector Observation: 1\n",
      "        Vector Action space type: discrete\n",
      "        Vector Action space size (per agent): 4\n",
      "        Vector Action descriptions: , , , \n"
     ]
    }
   ],
   "source": [
    "from unityagents import UnityEnvironment\n",
    "import numpy as np\n",
    "\n",
    "# please do not modify the line below\n",
    "env = UnityEnvironment(file_name=\"/data/Banana_Linux_NoVis/Banana.x86_64\")"
   ]
  },
  {
   "cell_type": "markdown",
   "metadata": {},
   "source": [
    "In this project, we have one agent with 4 actions (forward,backward,left and right) and in a simulated 3D environment represented by 37 state variables. "
   ]
  },
  {
   "cell_type": "code",
   "execution_count": 4,
   "metadata": {},
   "outputs": [
    {
     "name": "stdout",
     "output_type": "stream",
     "text": [
      "Number of agents: 1\n",
      "Number of actions: 4\n",
      "States look like: [ 1.          0.          0.          0.          0.84408134  0.          0.\n",
      "  1.          0.          0.0748472   0.          1.          0.          0.\n",
      "  0.25755     1.          0.          0.          0.          0.74177343\n",
      "  0.          1.          0.          0.          0.25854847  0.          0.\n",
      "  1.          0.          0.09355672  0.          1.          0.          0.\n",
      "  0.31969345  0.          0.        ]\n",
      "States have length: 37\n"
     ]
    }
   ],
   "source": [
    "# get the default brain\n",
    "brain_name = env.brain_names[0]\n",
    "brain = env.brains[brain_name]\n",
    "\n",
    "# reset the environment\n",
    "env_info = env.reset(train_mode=True)[brain_name]\n",
    "\n",
    "# number of agents in the environment\n",
    "print('Number of agents:', len(env_info.agents))\n",
    "\n",
    "# number of actions\n",
    "action_size = brain.vector_action_space_size\n",
    "print('Number of actions:', action_size)\n",
    "\n",
    "# examine the state space \n",
    "state = env_info.vector_observations[0]\n",
    "print('States look like:', state)\n",
    "state_size = len(state)\n",
    "print('States have length:', state_size)"
   ]
  },
  {
   "cell_type": "markdown",
   "metadata": {},
   "source": [
    "### Setting up the DQN"
   ]
  },
  {
   "cell_type": "markdown",
   "metadata": {},
   "source": [
    "Below I described the setup of the DQN starting with getting the agent, the dimension of the action space and state space."
   ]
  },
  {
   "cell_type": "code",
   "execution_count": 5,
   "metadata": {},
   "outputs": [],
   "source": [
    "# get the default brain\n",
    "brain_name = env.brain_names[0]\n",
    "brain = env.brains[brain_name]\n",
    "# reset the environment\n",
    "env_info = env.reset(train_mode=True)[brain_name]\n",
    "\n",
    "# getting game parameters\n",
    "action_size = brain.vector_action_space_size\n",
    "state = env_info.vector_observations[0]\n",
    "state_size = len(state)"
   ]
  },
  {
   "cell_type": "markdown",
   "metadata": {},
   "source": [
    "I used a four layer linear neural network with ReLU activation function and dropout layer with a probability of 33%. The input is 37 dimensional as mentioned above, which is passed to a 512 dimensional output in the first layer, followed by a second layer with 256 dimensional output and a third layer with 256 dimensional output. The output layer is a 4 dimensional output matching the number of actions such that each dimension represents the value of one of the 4 actions. \n",
    "\n",
    "The agent learns from sampling 64 observations randomly experienced before from its memory with a size of 20000. The agent discount the reward in the next timeframe with a discounting factor of 0.995. \n",
    "\n",
    "The agent learns how to play by minimizing the MSE errors (between policy value network and Q target) using gradient descent. The optimizing algorithm is Adam with a learning rate of 0.00005, which is chosen to strike a good balance between overshooting and run time. The learning of the policy value network is performed every 4th time during the play and the target network is softly updated with a small degree of 0.001 to the most recently updated policy value network (the purpose of the target network is to avoid the chasing target issue). The agent starts with exploring random actions given a state with a probability of 1 which decays with a rate of 0.995 each episode with a floor of 2.5% probability. Otherwise, the agent will choose the optimal action based on the policy value network."
   ]
  },
  {
   "cell_type": "code",
   "execution_count": 6,
   "metadata": {},
   "outputs": [
    {
     "name": "stdout",
     "output_type": "stream",
     "text": [
      "QNet(\n",
      "  (input_layer): Linear(in_features=37, out_features=512, bias=True)\n",
      "  (hidden_layers): ModuleList(\n",
      "    (0): Linear(in_features=512, out_features=256, bias=True)\n",
      "    (1): Linear(in_features=256, out_features=256, bias=True)\n",
      "  )\n",
      "  (output_layer): Linear(in_features=256, out_features=4, bias=True)\n",
      "  (activation): ReLU()\n",
      "  (dropout): Dropout(p=0.33)\n",
      ")\n"
     ]
    }
   ],
   "source": [
    "# setting up the agent\n",
    "from Agent import QAgent\n",
    "batch_size = 64\n",
    "agent = QAgent(state_size,action_size,batch_size)\n",
    "print(agent.policy_net)"
   ]
  },
  {
   "cell_type": "code",
   "execution_count": 7,
   "metadata": {},
   "outputs": [
    {
     "name": "stdout",
     "output_type": "stream",
     "text": [
      "Episode 100\tAverage Score: 0.34\n",
      "Episode 200\tAverage Score: 2.51\n",
      "Episode 300\tAverage Score: 6.90\n",
      "Episode 400\tAverage Score: 9.45\n",
      "Episode 500\tAverage Score: 13.41\n",
      "Episode 600\tAverage Score: 12.96\n",
      "Episode 700\tAverage Score: 14.21\n",
      "Episode 800\tAverage Score: 15.26\n",
      "Episode 900\tAverage Score: 13.67\n",
      "Episode 1000\tAverage Score: 15.89\n",
      "Episode 1100\tAverage Score: 11.85\n",
      "Episode 1200\tAverage Score: 15.49\n",
      "Episode 1300\tAverage Score: 14.05\n",
      "Episode 1400\tAverage Score: 14.73\n",
      "Episode 1500\tAverage Score: 15.56\n",
      "Episode 1600\tAverage Score: 14.19\n",
      "Episode 1700\tAverage Score: 15.79\n",
      "Episode 1800\tAverage Score: 14.41\n",
      "Episode 1900\tAverage Score: 15.53\n",
      "Episode 2000\tAverage Score: 15.28\n"
     ]
    },
    {
     "data": {
      "image/png": "[encoded data removed]",
      "text/plain": [
       "<matplotlib.figure.Figure at 0x7f55344225f8>"
      ]
     },
     "metadata": {
      "needs_background": "light"
     },
     "output_type": "display_data"
    }
   ],
   "source": [
    "def dqn(agent, n_episodes=2000, max_t=3000, update_every=4, soft_update=True, sync_every=5000, eps_start=1.,\n",
    "        eps_min=0.025, eps_decay=0.995):\n",
    "    scores = []  # list containing scores from each episode\n",
    "    scores_window = deque(maxlen=100)  # last 100 scores\n",
    "    step = 0\n",
    "    eps = eps_start\n",
    "\n",
    "    for i_episode in range(1, n_episodes + 1):\n",
    "        score = 0\n",
    "        env_info = env.reset(train_mode=True)[brain_name]\n",
    "        state = env_info.vector_observations[0]\n",
    "\n",
    "        for t in range(max_t):\n",
    "            action = agent.act(state,eps)\n",
    "            env_info = env.step(action)[brain_name]\n",
    "            state_next = env_info.vector_observations[0]\n",
    "            reward = env_info.rewards[0]\n",
    "            done = env_info.local_done[0]\n",
    "            agent.cache(state, action, reward, state_next, done)\n",
    "            step = (step+1) % update_every\n",
    "            if step == 0 and len(agent.memory)>batch_size:\n",
    "                experiences = agent.recall()\n",
    "                agent.learn(experiences)\n",
    "                agent.sync_target_net()\n",
    "            state = state_next\n",
    "            score += reward\n",
    "            if done:\n",
    "                break\n",
    "\n",
    "        eps = max(eps * eps_decay, eps_min)\n",
    "        scores_window.append(score)  # save most recent score\n",
    "        scores.append(score)  # save most recent score\n",
    "        print('\\rEpisode {}\\tAverage Score: {:.2f}'.format(i_episode, np.mean(scores_window)), end=\"\")\n",
    "        if i_episode % 100 == 0:\n",
    "            print('\\rEpisode {}\\tAverage Score: {:.2f}'.format(i_episode, np.mean(scores_window)))\n",
    "\n",
    "        torch.save(agent.policy_net.state_dict(), 'checkpoint.pth')\n",
    "\n",
    "    return scores\n",
    "\n",
    "scores = dqn(agent)\n",
    "\n",
    "# plot the scores\n",
    "fig = plt.figure()\n",
    "ax = fig.add_subplot(111)\n",
    "plt.plot(np.arange(len(scores)), scores)\n",
    "plt.ylabel('Score')\n",
    "plt.xlabel('Episode #')\n",
    "plt.show()\n",
    "\n",
    "env.close()"
   ]
  },
  {
   "cell_type": "markdown",
   "metadata": {},
   "source": [
    "### Conclusion and Future Improvements"
   ]
  },
  {
   "cell_type": "markdown",
   "metadata": {},
   "source": [
    "As shown below, the agent was able to achieve a average reward (moving average of 100 episodes) of about 15, after which the performance oscillates quite a bit until episode 2000."
   ]
  },
  {
   "cell_type": "markdown",
   "metadata": {},
   "source": [
    "There are a few future improvements that can potentially help with the performance including:  \n",
    "1. Tuning hyperparameters discussed above to get faster and more stable value network\n",
    "2. Using the visual screen shot of the environment either alone or in combination with the vector state variables as inputs into the policy network\n",
    "3. Replacing Q-learning with SARSA or Monte Carlo, which can potentially make the learning faster\n",
    "4. Using improved version of DQN such as Dueling DQN, Double DQN and Prioritized Experience Replay or combinations as discussed in [this paper](https://arxiv.org/pdf/1710.02298.pdf). "
   ]
  },
  {
   "cell_type": "code",
   "execution_count": null,
   "metadata": {},
   "outputs": [],
   "source": []
  }
 ],
 "metadata": {
  "kernelspec": {
   "display_name": "Python 3",
   "language": "python",
   "name": "python3"
  },
  "language_info": {
   "codemirror_mode": {
    "name": "ipython",
    "version": 3
   },
   "file_extension": ".py",
   "mimetype": "text/x-python",
   "name": "python",
   "nbconvert_exporter": "python",
   "pygments_lexer": "ipython3",
   "version": "3.6.13"
  }
 },
 "nbformat": 4,
 "nbformat_minor": 4
}
